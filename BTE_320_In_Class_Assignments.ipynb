{
  "nbformat": 4,
  "nbformat_minor": 0,
  "metadata": {
    "colab": {
      "provenance": [],
      "authorship_tag": "ABX9TyOeD3ehjvPfKVwA9ZFG6YCv",
      "include_colab_link": true
    },
    "kernelspec": {
      "name": "python3",
      "display_name": "Python 3"
    },
    "language_info": {
      "name": "python"
    }
  },
  "cells": [
    {
      "cell_type": "markdown",
      "metadata": {
        "id": "view-in-github",
        "colab_type": "text"
      },
      "source": [
        "<a href=\"https://colab.research.google.com/github/alexeverson/Colab/blob/main/BTE_320_In_Class_Assignments.ipynb\" target=\"_parent\"><img src=\"https://colab.research.google.com/assets/colab-badge.svg\" alt=\"Open In Colab\"/></a>"
      ]
    },
    {
      "cell_type": "code",
      "execution_count": null,
      "metadata": {
        "colab": {
          "base_uri": "https://localhost:8080/"
        },
        "id": "xmEsg554kJf9",
        "outputId": "c7aba9a7-beef-4811-f5ea-fcb5059e6838"
      },
      "outputs": [
        {
          "output_type": "stream",
          "name": "stdout",
          "text": [
            "244.92000000000002\n"
          ]
        }
      ],
      "source": [
        "# Calculate Surface Area of a Cylinder\n",
        "pi = 3.14 # Pi\n",
        "r = 3 # Radius\n",
        "h = 10 # Height\n",
        "\n",
        "# Calculate Area\n",
        "Area = (2 * pi * r **2) + (2 * pi * r * h)\n",
        "# Display Result on Screen\n",
        "print(Area)"
      ]
    },
    {
      "cell_type": "code",
      "source": [
        "type(r)"
      ],
      "metadata": {
        "colab": {
          "base_uri": "https://localhost:8080/"
        },
        "id": "fYZMUWl0kXYm",
        "outputId": "8d900fe7-2bbf-4672-9826-d0a284c1cf02"
      },
      "execution_count": null,
      "outputs": [
        {
          "output_type": "execute_result",
          "data": {
            "text/plain": [
              "int"
            ]
          },
          "metadata": {},
          "execution_count": 4
        }
      ]
    },
    {
      "cell_type": "code",
      "source": [
        "import random\n",
        "\n",
        "play = input(\"Do you want to play? (yes/no) \")\n",
        "while play == 'yes':\n",
        "\n",
        "  p1 = input(\"Player, please enter choice (r/p/s): \")\n",
        "  p2 = random.choice(['r', 'p', 's'])\n",
        "\n",
        "  print(f\"Computer chose {p2}\")\n",
        "\n",
        "  if p1 == 'r' and p2 == 's':\n",
        "    print(\"Player wins\")\n",
        "  elif p1 == 'r' and p2 == 'p':\n",
        "    print(\"Computer wins\")\n",
        "  elif p1 == 'p' and p2 == 'r':\n",
        "    print(\"Player wins\")\n",
        "  elif p1 == 'p' and p2 == 's':\n",
        "    print(\"Computer wins\")\n",
        "  elif p1 == 's' and p2 == 'r':\n",
        "    print(\"Computer wins\")\n",
        "  elif p1 == 's' and p2 == 'p':\n",
        "    print(\"Player wins\")\n",
        "  else:\n",
        "    print(\"Draw\")\n",
        "  play = input(\"Do you want to play again? (yes/no) \")\n",
        "  if play == 'no':\n",
        "    print(\"Thank you for playing\")"
      ],
      "metadata": {
        "id": "ND5eoXuFsRBd",
        "colab": {
          "base_uri": "https://localhost:8080/"
        },
        "outputId": "58487b87-e2b1-41ce-c664-f447b2c0e319"
      },
      "execution_count": null,
      "outputs": [
        {
          "output_type": "stream",
          "name": "stdout",
          "text": [
            "Do you want to play? (yes/no) yes\n",
            "Player, please enter choice (r/p/s): r\n",
            "Computer chose r\n",
            "Draw\n",
            "Do you want to play again? (yes/no) no\n",
            "Thank you for playing\n"
          ]
        }
      ]
    },
    {
      "cell_type": "code",
      "source": [
        "op = input(\"Please input +, -, *, /, or **\")\n",
        "n1 = input(\"Please input first number: \")\n",
        "n2 = input(\"Please input second number: \")\n",
        "\n",
        "if op == '+':\n",
        "  print(float(n1) + float(n2))\n",
        "elif op == '-':\n",
        "  print(float(n1) - float(n2))\n",
        "elif op == '*':\n",
        "  print(float(n1) * float(n2))\n",
        "elif op == '/':\n",
        "  print(float(n1) / float(n2))\n",
        "elif op == '**':\n",
        "  print(float(n1) ** float(n2))"
      ],
      "metadata": {
        "colab": {
          "base_uri": "https://localhost:8080/"
        },
        "id": "9487SpNX5CK4",
        "outputId": "f6310d99-1771-46cc-fcd6-473aa1452427"
      },
      "execution_count": 6,
      "outputs": [
        {
          "output_type": "stream",
          "name": "stdout",
          "text": [
            "Please input +, -, *, /, or **+\n",
            "Please input first number: 2\n",
            "Please input second number: 3\n",
            "5.0\n"
          ]
        }
      ]
    },
    {
      "cell_type": "code",
      "source": [
        "flat = 5\n",
        "hourly = 2.5\n",
        "min = 10\n",
        "max = 20\n",
        "\n",
        "for i in range (1,9):\n",
        "  rate = flat + (i * hourly)\n",
        "  if rate < 10:\n",
        "    print(i, min)\n",
        "  elif rate > 20:\n",
        "    print(i, max)\n",
        "  else:\n",
        "    print(i, rate)"
      ],
      "metadata": {
        "colab": {
          "base_uri": "https://localhost:8080/"
        },
        "id": "e5eOLAO4Kbse",
        "outputId": "0f6478c5-d924-4357-ef8b-efaaf9d548fa"
      },
      "execution_count": 5,
      "outputs": [
        {
          "output_type": "stream",
          "name": "stdout",
          "text": [
            "1 10\n",
            "2 10.0\n",
            "3 12.5\n",
            "4 15.0\n",
            "5 17.5\n",
            "6 20.0\n",
            "7 20\n",
            "8 20\n"
          ]
        }
      ]
    },
    {
      "cell_type": "code",
      "source": [
        "for ad in range(0,201,25):\n",
        "  ticketprice = 10\n",
        "  attend_noad = 20\n",
        "  fixed = 200\n",
        "  tickets = 20 + 2*round(ad**.5)\n",
        "\n",
        "  profit = tickets * ticketprice - ad - fixed\n",
        "  print(ad, profit)"
      ],
      "metadata": {
        "colab": {
          "base_uri": "https://localhost:8080/"
        },
        "id": "-jUbIZdRKb09",
        "outputId": "e49ed672-ae74-4ffc-efc2-c85ad252efe9"
      },
      "execution_count": 2,
      "outputs": [
        {
          "output_type": "stream",
          "name": "stdout",
          "text": [
            "0 0\n",
            "25 75\n",
            "50 90\n",
            "75 105\n",
            "100 100\n",
            "125 95\n",
            "150 90\n",
            "175 85\n",
            "200 80\n"
          ]
        }
      ]
    },
    {
      "cell_type": "code",
      "source": [
        "l = []\n",
        "\n",
        "item = int(input(\"Give a value: \"))\n",
        "\n",
        "while item != 0:\n",
        "  l.append(item)\n",
        "  item = int(input(\"Give another value: \"))\n",
        "print(l)"
      ],
      "metadata": {
        "colab": {
          "base_uri": "https://localhost:8080/"
        },
        "id": "bTMZmB7xJDNq",
        "outputId": "0c45a13d-7dc8-42e3-d2bc-82c71989de11"
      },
      "execution_count": 8,
      "outputs": [
        {
          "output_type": "stream",
          "name": "stdout",
          "text": [
            "Give a value: 1\n",
            "Give another value: 2\n",
            "Give another value: 3\n",
            "Give another value: 4\n",
            "Give another value: 5\n",
            "Give another value: 0\n",
            "[1, 2, 3, 4, 5]\n"
          ]
        }
      ]
    }
  ]
}