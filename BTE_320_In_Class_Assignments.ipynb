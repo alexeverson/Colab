{
  "nbformat": 4,
  "nbformat_minor": 0,
  "metadata": {
    "colab": {
      "provenance": [],
      "authorship_tag": "ABX9TyMgSF5sY2gs+sUxlNTV3XKS",
      "include_colab_link": true
    },
    "kernelspec": {
      "name": "python3",
      "display_name": "Python 3"
    },
    "language_info": {
      "name": "python"
    }
  },
  "cells": [
    {
      "cell_type": "markdown",
      "metadata": {
        "id": "view-in-github",
        "colab_type": "text"
      },
      "source": [
        "<a href=\"https://colab.research.google.com/github/alexeverson/Colab/blob/main/BTE_320_In_Class_Assignments.ipynb\" target=\"_parent\"><img src=\"https://colab.research.google.com/assets/colab-badge.svg\" alt=\"Open In Colab\"/></a>"
      ]
    },
    {
      "cell_type": "code",
      "execution_count": 3,
      "metadata": {
        "colab": {
          "base_uri": "https://localhost:8080/"
        },
        "id": "xmEsg554kJf9",
        "outputId": "3d64583a-68a1-4e35-f0f3-1a458d1a8f55"
      },
      "outputs": [
        {
          "output_type": "stream",
          "name": "stdout",
          "text": [
            "244.92000000000002\n"
          ]
        }
      ],
      "source": [
        "# Calculate Surface Area of a Cylinder\n",
        "pi = 3.14 # Pi\n",
        "r = 3 # Radius\n",
        "h = 10 # Height\n",
        "\n",
        "# Calculate Area\n",
        "Area = (2 * pi * r **2) + (2 * pi * r * h)\n",
        "# Display Result on Screen\n",
        "print(Area)"
      ]
    },
    {
      "cell_type": "code",
      "source": [
        "type(r)"
      ],
      "metadata": {
        "colab": {
          "base_uri": "https://localhost:8080/"
        },
        "id": "DVgNyVOdJvr0",
        "outputId": "bf68f3e4-87a5-44f0-8850-85262a060205"
      },
      "execution_count": 4,
      "outputs": [
        {
          "output_type": "execute_result",
          "data": {
            "text/plain": [
              "int"
            ]
          },
          "metadata": {},
          "execution_count": 4
        }
      ]
    },
    {
      "cell_type": "code",
      "source": [
        "import random\n",
        "\n",
        "play = input(\"Do you want to play? (yes/no) \")\n",
        "while play == 'yes':\n",
        "\n",
        "  p1 = input(\"Player, please enter choice (r/p/s): \")\n",
        "  p2 = random.choice(['r', 'p', 's'])\n",
        "\n",
        "  print(f\"Computer chose {p2}\")\n",
        "\n",
        "  if p1 == 'r' and p2 == 's':\n",
        "    print(\"Player wins\")\n",
        "  elif p1 == 'r' and p2 == 'p':\n",
        "    print(\"Computer wins\")\n",
        "  elif p1 == 'p' and p2 == 'r':\n",
        "    print(\"Player wins\")\n",
        "  elif p1 == 'p' and p2 == 's':\n",
        "    print(\"Computer wins\")\n",
        "  elif p1 == 's' and p2 == 'r':\n",
        "    print(\"Computer wins\")\n",
        "  elif p1 == 's' and p2 == 'p':\n",
        "    print(\"Player wins\")\n",
        "  else:\n",
        "    print(\"Draw\")\n",
        "  play = input(\"Do you want to play again? (yes/no) \")\n",
        "  if play == 'no':\n",
        "    print(\"Thank you for playing\")"
      ],
      "metadata": {
        "id": "ND5eoXuFsRBd",
        "colab": {
          "base_uri": "https://localhost:8080/"
        },
        "outputId": "58487b87-e2b1-41ce-c664-f447b2c0e319"
      },
      "execution_count": null,
      "outputs": [
        {
          "output_type": "stream",
          "name": "stdout",
          "text": [
            "Do you want to play? (yes/no) yes\n",
            "Player, please enter choice (r/p/s): r\n",
            "Computer chose r\n",
            "Draw\n",
            "Do you want to play again? (yes/no) no\n",
            "Thank you for playing\n"
          ]
        }
      ]
    },
    {
      "cell_type": "code",
      "source": [
        "op = input(\"Please input +, -, *, /, or **\")\n",
        "n1 = input(\"Please input first number: \")\n",
        "n2 = input(\"Please input second number: \")\n",
        "\n",
        "if op == '+':\n",
        "  print(float(n1) + float(n2))\n",
        "elif op == '-':\n",
        "  print(float(n1) - float(n2))\n",
        "elif op == '*':\n",
        "  print(float(n1) * float(n2))\n",
        "elif op == '/':\n",
        "  print(float(n1) / float(n2))\n",
        "elif op == '**':\n",
        "  print(float(n1) ** float(n2))"
      ],
      "metadata": {
        "colab": {
          "base_uri": "https://localhost:8080/"
        },
        "id": "9487SpNX5CK4",
        "outputId": "f6310d99-1771-46cc-fcd6-473aa1452427"
      },
      "execution_count": null,
      "outputs": [
        {
          "output_type": "stream",
          "name": "stdout",
          "text": [
            "Please input +, -, *, /, or **+\n",
            "Please input first number: 2\n",
            "Please input second number: 3\n",
            "5.0\n"
          ]
        }
      ]
    },
    {
      "cell_type": "code",
      "source": [
        "flat = 5\n",
        "hourly = 2.5\n",
        "min = 10\n",
        "max = 20\n",
        "\n",
        "for i in range (1,9):\n",
        "  rate = flat + (i * hourly)\n",
        "  if rate < 10:\n",
        "    print(i, min)\n",
        "  elif rate > 20:\n",
        "    print(i, max)\n",
        "  else:\n",
        "    print(i, rate)"
      ],
      "metadata": {
        "colab": {
          "base_uri": "https://localhost:8080/"
        },
        "id": "e5eOLAO4Kbse",
        "outputId": "0f6478c5-d924-4357-ef8b-efaaf9d548fa"
      },
      "execution_count": null,
      "outputs": [
        {
          "output_type": "stream",
          "name": "stdout",
          "text": [
            "1 10\n",
            "2 10.0\n",
            "3 12.5\n",
            "4 15.0\n",
            "5 17.5\n",
            "6 20.0\n",
            "7 20\n",
            "8 20\n"
          ]
        }
      ]
    },
    {
      "cell_type": "code",
      "source": [
        "for ad in range(0,201,25):\n",
        "  ticketprice = 10\n",
        "  attend_noad = 20\n",
        "  fixed = 200\n",
        "  tickets = 20 + 2*round(ad**.5)\n",
        "\n",
        "  profit = tickets * ticketprice - ad - fixed\n",
        "  print(ad, profit)"
      ],
      "metadata": {
        "colab": {
          "base_uri": "https://localhost:8080/"
        },
        "id": "-jUbIZdRKb09",
        "outputId": "e49ed672-ae74-4ffc-efc2-c85ad252efe9"
      },
      "execution_count": null,
      "outputs": [
        {
          "output_type": "stream",
          "name": "stdout",
          "text": [
            "0 0\n",
            "25 75\n",
            "50 90\n",
            "75 105\n",
            "100 100\n",
            "125 95\n",
            "150 90\n",
            "175 85\n",
            "200 80\n"
          ]
        }
      ]
    },
    {
      "cell_type": "code",
      "source": [
        "l = []\n",
        "\n",
        "item = int(input(\"Give a value: \"))\n",
        "\n",
        "while item != 0:\n",
        "  l.append(item)\n",
        "  item = int(input(\"Give another value: \"))\n",
        "print(l)"
      ],
      "metadata": {
        "colab": {
          "base_uri": "https://localhost:8080/"
        },
        "id": "bTMZmB7xJDNq",
        "outputId": "0c45a13d-7dc8-42e3-d2bc-82c71989de11"
      },
      "execution_count": null,
      "outputs": [
        {
          "output_type": "stream",
          "name": "stdout",
          "text": [
            "Give a value: 1\n",
            "Give another value: 2\n",
            "Give another value: 3\n",
            "Give another value: 4\n",
            "Give another value: 5\n",
            "Give another value: 0\n",
            "[1, 2, 3, 4, 5]\n"
          ]
        }
      ]
    },
    {
      "cell_type": "code",
      "source": [
        "months = {}\n",
        "\n",
        "names = [\"Jan\", \"Feb\", \"Mar\", \"Apr\", \"May\", \"Jun\", \"Jul\", \"Aug\", \"Sep\", \"Oct\", \"Nov\", \"Dec\"]\n",
        "numbers = [1,2,3,4,5,6,7,8,9,10,11,12]\n",
        "\n",
        "for i in range(len(numbers)):\n",
        "  months[numbers[i]] = names[i]\n",
        "\n",
        "print(months)"
      ],
      "metadata": {
        "id": "K4JXTuyy-6-F",
        "colab": {
          "base_uri": "https://localhost:8080/"
        },
        "outputId": "7d4f5027-908e-4952-db15-b1914f2a3c51"
      },
      "execution_count": null,
      "outputs": [
        {
          "output_type": "stream",
          "name": "stdout",
          "text": [
            "{1: 'Jan', 2: 'Feb', 3: 'Mar', 4: 'Apr', 5: 'May', 6: 'Jun', 7: 'Jul', 8: 'Aug', 9: 'Sep', 10: 'Oct', 11: 'Nov', 12: 'Dec'}\n"
          ]
        }
      ]
    },
    {
      "cell_type": "code",
      "source": [
        "def calcFee(hours):\n",
        "  fee = 5 + hours * 2.5\n",
        "  return fee\n",
        "\n",
        "h = int(input(\"Enter number of hours: \"))\n",
        "fee = calcFee(h)\n",
        "print(f\"Your rate is {fee}\")"
      ],
      "metadata": {
        "colab": {
          "base_uri": "https://localhost:8080/"
        },
        "id": "KKsMUEMLAQ9w",
        "outputId": "e0ff869c-20db-411a-c877-ae55f6e40bd0"
      },
      "execution_count": null,
      "outputs": [
        {
          "output_type": "stream",
          "name": "stdout",
          "text": [
            "Enter number of hours: 4\n",
            "Your rate is 15.0\n"
          ]
        }
      ]
    },
    {
      "cell_type": "code",
      "source": [
        "def calcFee(hours, decimals=2):\n",
        "  fee = 5 + hours * 2.5\n",
        "  fee = round(fee, decimals)\n",
        "  return fee\n",
        "\n",
        "def displayFee(fee):\n",
        "  print(fee)\n",
        "\n",
        "h = int(input(\"Enter number of hours: \"))\n",
        "fee = calcFee(h)\n",
        "displayFee(f\"Your rate is {fee}\")"
      ],
      "metadata": {
        "colab": {
          "base_uri": "https://localhost:8080/"
        },
        "id": "3Wth-GkYCy8G",
        "outputId": "1282651a-3147-4c5a-da6a-963b9fcc026e"
      },
      "execution_count": null,
      "outputs": [
        {
          "output_type": "stream",
          "name": "stdout",
          "text": [
            "Enter number of hours: 4\n",
            "Your rate is 15.0\n"
          ]
        }
      ]
    },
    {
      "cell_type": "code",
      "source": [
        "def reverse(s):\n",
        "  if len(s) == 1:\n",
        "    return(s)\n",
        "  else:\n",
        "   return s[-1] + reverse(s[1:-1]) + s[0]\n",
        "\n",
        "reverse('Hello')"
      ],
      "metadata": {
        "id": "VAINKfqBKaEa"
      },
      "execution_count": null,
      "outputs": []
    },
    {
      "cell_type": "code",
      "source": [
        "def wAvg(L, w):\n",
        "  try:\n",
        "    res = []\n",
        "    for i in range(len(L)):\n",
        "     res.append(w[i] * L[i])\n",
        "    return sum(res) / sum(w)\n",
        "  except ZeroDivisionError:\n",
        "    print('Divded by zero')\n",
        "    return None\n",
        "  except TypeError:\n",
        "    print('Non-numerical objects found')\n",
        "    return None\n",
        "  except Exception as e:\n",
        "    print(f'Unknown error: {e}')\n",
        "    return float('nan')\n",
        "wAvg([1, 2, 3], [.2, 0, -.2])"
      ],
      "metadata": {
        "colab": {
          "base_uri": "https://localhost:8080/"
        },
        "id": "6j3cQ7b-KFUZ",
        "outputId": "a8d66394-331b-47b2-c89c-fdcabc181bc7"
      },
      "execution_count": 5,
      "outputs": [
        {
          "output_type": "stream",
          "name": "stdout",
          "text": [
            "Divded by zero\n"
          ]
        }
      ]
    },
    {
      "cell_type": "markdown",
      "source": [
        "**----------**"
      ],
      "metadata": {
        "id": "F7MtkUNxYkiO"
      }
    },
    {
      "cell_type": "code",
      "source": [
        "class Student:\n",
        "  def __init__(self, name, number):\n",
        "    self.name = name\n",
        "    self.number = number\n",
        "    self.__courses = [ ]\n",
        "\n",
        "  def enroll(self, course):\n",
        "    if course not in self.__courses:\n",
        "      self.__courses.append(course)\n",
        "    else:\n",
        "      print(\"Already enrolled in\", course)\n",
        "\n",
        "  def get_courses(self):\n",
        "    return self.__courses\n",
        "\n",
        "  def __repr__(self):\n",
        "    return f\"Name: {self.name}\""
      ],
      "metadata": {
        "id": "xbD0nPnCYjOM"
      },
      "execution_count": null,
      "outputs": []
    },
    {
      "cell_type": "code",
      "source": [
        "s1 = Student(\"Brock Purdy\", 13,)\n",
        "s2 = Student(\"Jake Moody\", 4,)\n",
        "\n",
        "s1"
      ],
      "metadata": {
        "colab": {
          "base_uri": "https://localhost:8080/"
        },
        "id": "uUZ2Qf9aZjVq",
        "outputId": "6225693a-9b2b-4afc-82e3-6538f4fb21cd"
      },
      "execution_count": null,
      "outputs": [
        {
          "output_type": "execute_result",
          "data": {
            "text/plain": [
              "Name: Brock Purdy"
            ]
          },
          "metadata": {},
          "execution_count": 59
        }
      ]
    },
    {
      "cell_type": "code",
      "source": [
        "s1.enroll(\"Math\")"
      ],
      "metadata": {
        "id": "15fQoLEepOAL"
      },
      "execution_count": null,
      "outputs": []
    },
    {
      "cell_type": "code",
      "source": [
        "s1.get_courses()"
      ],
      "metadata": {
        "colab": {
          "base_uri": "https://localhost:8080/"
        },
        "id": "m3bNHQHOr1BM",
        "outputId": "1556eac8-9a8a-4ff2-db4b-72fe468e7824"
      },
      "execution_count": null,
      "outputs": [
        {
          "output_type": "execute_result",
          "data": {
            "text/plain": [
              "['Math']"
            ]
          },
          "metadata": {},
          "execution_count": 61
        }
      ]
    }
  ]
}