{
  "nbformat": 4,
  "nbformat_minor": 0,
  "metadata": {
    "colab": {
      "provenance": [],
      "authorship_tag": "ABX9TyMyvZ+vJG3xuWBeDkjJ7xfZ",
      "include_colab_link": true
    },
    "kernelspec": {
      "name": "python3",
      "display_name": "Python 3"
    },
    "language_info": {
      "name": "python"
    }
  },
  "cells": [
    {
      "cell_type": "markdown",
      "metadata": {
        "id": "view-in-github",
        "colab_type": "text"
      },
      "source": [
        "<a href=\"https://colab.research.google.com/github/alexeverson/Colab/blob/main/BTE_320_In_Class_Assignments.ipynb\" target=\"_parent\"><img src=\"https://colab.research.google.com/assets/colab-badge.svg\" alt=\"Open In Colab\"/></a>"
      ]
    },
    {
      "cell_type": "code",
      "execution_count": null,
      "metadata": {
        "colab": {
          "base_uri": "https://localhost:8080/"
        },
        "id": "xmEsg554kJf9",
        "outputId": "c7aba9a7-beef-4811-f5ea-fcb5059e6838"
      },
      "outputs": [
        {
          "output_type": "stream",
          "name": "stdout",
          "text": [
            "244.92000000000002\n"
          ]
        }
      ],
      "source": [
        "# Calculate Surface Area of a Cylinder\n",
        "pi = 3.14 # Pi\n",
        "r = 3 # Radius\n",
        "h = 10 # Height\n",
        "\n",
        "# Calculate Area\n",
        "Area = (2 * pi * r **2) + (2 * pi * r * h)\n",
        "# Display Result on Screen\n",
        "print(Area)"
      ]
    },
    {
      "cell_type": "code",
      "source": [
        "type(r)"
      ],
      "metadata": {
        "colab": {
          "base_uri": "https://localhost:8080/"
        },
        "id": "fYZMUWl0kXYm",
        "outputId": "8d900fe7-2bbf-4672-9826-d0a284c1cf02"
      },
      "execution_count": null,
      "outputs": [
        {
          "output_type": "execute_result",
          "data": {
            "text/plain": [
              "int"
            ]
          },
          "metadata": {},
          "execution_count": 4
        }
      ]
    },
    {
      "cell_type": "code",
      "source": [
        "p1 = input(\"Player 1, please enter choice (r->rock, p->paper, s->scissors): \")\n",
        "p2 = input(\"Player 2, please enter choice (r->rock, p->paper, s->scissors): \")\n",
        "\n",
        "if p1 == 'r' and p2 == 's':\n",
        "  print(\"Player 1 wins\")\n",
        "elif p1 == 'r' and p2 == 'p':\n",
        "  print(\"Player 2 wins\")\n",
        "elif p1 == 'p' and p2 == 'r':\n",
        "  print(\"Player 1 wins\")\n",
        "elif p1 == 'p' and p2 == 's':\n",
        "  print(\"Player 2 wins\")\n",
        "elif p1 == 's' and p2 == 'r':\n",
        "  print(\"Player 2 wins\")\n",
        "elif p1 == 's' and p2 == 'p':\n",
        "  print(\"Player 1 wins\")\n",
        "else:\n",
        "  print(\"Draw\")"
      ],
      "metadata": {
        "id": "ND5eoXuFsRBd",
        "colab": {
          "base_uri": "https://localhost:8080/"
        },
        "outputId": "5fae9f86-1328-4b08-cc11-d6c85380af31"
      },
      "execution_count": null,
      "outputs": [
        {
          "output_type": "stream",
          "name": "stdout",
          "text": [
            "Player 1, please enter choice (r->rock, p->paper, s->scissors): r\n",
            "Player 2, please enter choice (r->rock, p->paper, s->scissors): p\n",
            "Player 2 wins\n"
          ]
        }
      ]
    },
    {
      "cell_type": "code",
      "source": [
        "op = input(\"Please input +, -, *, /, or **\")\n",
        "n1 = input(\"Please input first number: \")\n",
        "n2 = input(\"Please input second number: \")\n",
        "\n",
        "if op == '+':\n",
        "  print(float(n1) + float(n2))\n",
        "elif op == '-':\n",
        "  print(float(n1) - float(n2))\n",
        "elif op == '*':\n",
        "  print(float(n1) * float(n2))\n",
        "elif op == '/':\n",
        "  print(float(n1) / float(n2))\n",
        "elif op == '**':\n",
        "  print(float(n1) ** float(n2))"
      ],
      "metadata": {
        "colab": {
          "base_uri": "https://localhost:8080/"
        },
        "id": "9487SpNX5CK4",
        "outputId": "1df817f3-1ed2-4e95-a88a-dcb8f99bb354"
      },
      "execution_count": 4,
      "outputs": [
        {
          "output_type": "stream",
          "name": "stdout",
          "text": [
            "Please input +, -, *, /, or **+\n",
            "Please input first number: 3\n",
            "Please input second number: 4\n",
            "7.0\n"
          ]
        }
      ]
    }
  ]
}